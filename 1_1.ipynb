{
  "cells": [
    {
      "cell_type": "markdown",
      "id": "OFn1zoMQh_Wc",
      "metadata": {
        "id": "OFn1zoMQh_Wc"
      },
      "source": [
        "Question 1:The Road Trip Planner"
      ]
    },
    {
      "cell_type": "code",
      "execution_count": 4,
      "id": "IORQtP23hoRD",
      "metadata": {
        "colab": {
          "base_uri": "https://localhost:8080/"
        },
        "id": "IORQtP23hoRD",
        "outputId": "a7204aac-8bd7-48c6-fcef-bce84d7adfea"
      },
      "outputs": [
        {
          "name": "stdout",
          "output_type": "stream",
          "text": [
            "41.30434782608695\n"
          ]
        }
      ],
      "source": [
        "#Question 1\n",
        "fuel_efficiency = 11.5\n",
        "total_distance = 475\n",
        "fuel_price = 1.65\n",
        "tank_capacity = 50\n",
        "\n",
        "#(a) How many liters of fuel will you need for the entire trip?\n",
        "fuel_needed = total_distance / fuel_efficiency\n",
        "print(fuel_needed)"
      ]
    },
    {
      "cell_type": "markdown",
      "id": "7b5be325",
      "metadata": {
        "id": "7b5be325"
      },
      "source": [
        " \"Explanantion\" Divide every mile by the vehicle's fuel efficiency to get how much oil is required.\n",
        "This indicates the number of liters needed to cover 475 kilometers."
      ]
    },
    {
      "cell_type": "code",
      "execution_count": 5,
      "id": "a4b53661",
      "metadata": {
        "colab": {
          "base_uri": "https://localhost:8080/"
        },
        "id": "a4b53661",
        "outputId": "1a61e3d4-4e49-4cd9-e402-a3c517208537"
      },
      "outputs": [
        {
          "name": "stdout",
          "output_type": "stream",
          "text": [
            "Full tanks needed: 0.0\n"
          ]
        }
      ],
      "source": [
        "# (b) How many full tanks of fuel does this represent?\n",
        "tank_capacity = 50  # liters\n",
        "\n",
        "full_tanks_needed = fuel_needed // tank_capacity\n",
        "print(f\"Full tanks needed: {full_tanks_needed}\")\n",
        "\n",
        "# \"Explanantion\" Using floor division (//) gives the whole number of full tanks required.\n",
        "# Since 41.3 liters is less than one full tank (50 liters), the result is 0 full tanks needed, because you start with a full tank and won’t need to refill."
      ]
    },
    {
      "cell_type": "code",
      "execution_count": 6,
      "id": "3696d657",
      "metadata": {
        "colab": {
          "base_uri": "https://localhost:8080/"
        },
        "id": "3696d657",
        "outputId": "1154912b-9f89-403c-be79-63265dd9c2e3"
      },
      "outputs": [
        {
          "name": "stdout",
          "output_type": "stream",
          "text": [
            "68.15217391304347\n"
          ]
        }
      ],
      "source": [
        "# (c) What is the total estimated fuel cost for the trip (based on the fuel needed)?\n",
        "\n",
        "total_cost = fuel_needed * fuel_price\n",
        "print(total_cost)\n",
        "# Multiply the total liters needed by the price per liter to get the total fuel cost."
      ]
    },
    {
      "cell_type": "code",
      "execution_count": 7,
      "id": "f21f38fa",
      "metadata": {
        "colab": {
          "base_uri": "https://localhost:8080/"
        },
        "id": "f21f38fa",
        "outputId": "bd3623b4-0ab8-4703-a1e2-59c8df691d26"
      },
      "outputs": [
        {
          "name": "stdout",
          "output_type": "stream",
          "text": [
            "8.695652173913047\n"
          ]
        }
      ],
      "source": [
        "# (d) . After completing the trip, how many liters of fuel will be remaining in your tank if you started full and only refueled the exact amount needed?\n",
        "\n",
        "fuel_remaining = tank_capacity - fuel_needed\n",
        "print(fuel_remaining)\n",
        "\n",
        "# Start with a full tank (50 liters), subtract the fuel used for the trip to find what remains."
      ]
    },
    {
      "cell_type": "markdown",
      "id": "63WDCgjfltWv",
      "metadata": {
        "id": "63WDCgjfltWv"
      },
      "source": [
        "Question 2 : Theme Park Entry Rules"
      ]
    },
    {
      "cell_type": "code",
      "execution_count": 8,
      "id": "787b8d49",
      "metadata": {
        "id": "787b8d49"
      },
      "outputs": [],
      "source": [
        "# Question 2 : Theme Park Entry Rules\n",
        "age = 30\n",
        "weekday = True\n",
        "family_day = False\n",
        "group_size = 3"
      ]
    },
    {
      "cell_type": "code",
      "execution_count": 9,
      "id": "6e521d68",
      "metadata": {
        "colab": {
          "base_uri": "https://localhost:8080/"
        },
        "id": "6e521d68",
        "outputId": "7686f2b6-abac-4540-ae7b-c29555046c02"
      },
      "outputs": [
        {
          "name": "stdout",
          "output_type": "stream",
          "text": [
            "False\n"
          ]
        }
      ],
      "source": [
        "# (a) : Write a single, comprehensive Python boolean expression that evaluates to True if a person with the current variable values qualifies for a discount, and False otherwise.\n",
        "# Show the expression and its result\n",
        "\n",
        "discount = ((age <= 12 and weekday) or (age >= 65) or (family_day and group_size >= 4))\n",
        "print(discount)\n"
      ]
    },
    {
      "cell_type": "code",
      "execution_count": 10,
      "id": "24d1f21d",
      "metadata": {
        "colab": {
          "base_uri": "https://localhost:8080/"
        },
        "id": "24d1f21d",
        "outputId": "012af593-f8e5-4c00-e6d9-5885dd23b9b4"
      },
      "outputs": [
        {
          "name": "stdout",
          "output_type": "stream",
          "text": [
            "True\n"
          ]
        }
      ],
      "source": [
        "# b. Now, change the variables to:\n",
        "age = 10\n",
        "is_weekday = True\n",
        "is_family_day = False\n",
        "group_size = 2\n",
        "# Evaluate your boolean expression from part (a) with these new values. Show the result.\n",
        "\n",
        "discount = ((age <= 12 and is_weekday) or (age >= 65) or (is_family_day and group_size >= 4))\n",
        "print(discount)\n",
        "\n",
        "# c. I started by checking if the age is less than or equal to 12. Since the age is 10, this requirement is met. Next, I checked if it is a weekday, which is true. If both these requirements are combined with the 'and' operator, the result remains true because both are true. Then, I checked whether the age is greater than or equal to 65, but since the age is just 10, this one is false. Lastly, I checked whether it is a family day and if the size is 4 or greater. Those two are false, so the part of this expression is false as well. When I combine all these results with the 'or' operator, we only want one condition to be true so the entire expression will be true. Since the first condition is true, the end result is that the person is eligible for the discount.\n"
      ]
    },
    {
      "cell_type": "markdown",
      "id": "a5eef270",
      "metadata": {},
      "source": [
        "Explanation (c.): I started by checking if the age is less than or equak to 12. Since the age is 10, this requirement is met. Next, I checked if it is a weekday, which is true. If both these requirements are combined with the 'and' operator, the result remains truie because both are true. Then, I checked whether the age is greater than or equal to 65, but since the age is 10, this is false. Lastly, I checked whether it is a family day and if the size is 4 or greater. Those two are false as well. when I combine all these results with the 'or' operator, we only want one condition to be true so the entire expression will be true. Since the first condition is true, the end result is that the person is eligible for the discount.  "
      ]
    },
    {
      "cell_type": "markdown",
      "id": "abd93d7b",
      "metadata": {
        "id": "abd93d7b"
      },
      "source": [
        " Question 3. String Data Types, Indexing & Slicing"
      ]
    },
    {
      "cell_type": "code",
      "execution_count": 11,
      "id": "2f21a53f",
      "metadata": {
        "colab": {
          "base_uri": "https://localhost:8080/"
        },
        "id": "2f21a53f",
        "outputId": "d60b08e9-9a30-4742-b435-3977d9fb659b"
      },
      "outputs": [
        {
          "name": "stdout",
          "output_type": "stream",
          "text": [
            "N\n",
            "Is_FuN\n",
            "PoWeRfUl\n",
            "PosNDWU\n"
          ]
        }
      ],
      "source": [
        "# Question 3. String Data Types, Indexing & Slicing\n",
        "\n",
        "# You are given the following secret message encoded in a Python string:\n",
        "secret_message = \"PyThoN_Is_FuN_AnD_PoWeRfUl!\"\n",
        "# a. Character at index 5\n",
        "print(secret_message[5])\n",
        "# b. Extract \"Is_FuN\" (positive indexing)\n",
        "print(secret_message[7:13])\n",
        "# c. Extract \"PoWeRfUl\" (negative indexing)\n",
        "print(secret_message[-9:-1])\n",
        "# d. Every 4th character from index 0\n",
        "print(secret_message[0::4])\n",
        "\n",
        "# e. If you try to access secret_message[50], what happens?\n",
        "# Explain this result in your own words, referring to the concept of string length.\n",
        "\n"
      ]
    },
    {
      "cell_type": "markdown",
      "id": "8307d702",
      "metadata": {
        "id": "8307d702"
      },
      "source": [
        "Explanation: It gives me an error called IndexError. This is because in the string secret_message = \"PyThoN_Is_FuN_AnD_PoWeRfUl!\" has only 27 characters in total. Since counting in Python starts from 0, the last character is actually at index 26. So when I ask for index 50, Python can't find anything there and tells me that\n",
        "I'm going beyond the end of the string."
      ]
    },
    {
      "cell_type": "markdown",
      "id": "aGl0FNj2n6rm",
      "metadata": {
        "id": "aGl0FNj2n6rm"
      },
      "source": [
        "Question 4. Boolean Values & Expressions"
      ]
    },
    {
      "cell_type": "code",
      "execution_count": 12,
      "id": "be73f33c",
      "metadata": {
        "colab": {
          "base_uri": "https://localhost:8080/"
        },
        "id": "be73f33c",
        "outputId": "61e0d055-0916-496c-f840-4130b905101c"
      },
      "outputs": [
        {
          "data": {
            "text/plain": [
              "True"
            ]
          },
          "execution_count": 12,
          "metadata": {},
          "output_type": "execute_result"
        }
      ],
      "source": [
        "# Question 4. Boolean Values & Expressions\n",
        "\n",
        "#Consider the following Python variable assignments:\n",
        "x = 15\n",
        "y = 25\n",
        "z = 15\n",
        "text = \"adventure\"\n",
        "# For each boolean expression below:\n",
        "\n",
        "#a. According to me it should be true because x is equals to z and y is greater than x.\"\n",
        "(x==z) and (y>x)\n"
      ]
    },
    {
      "cell_type": "code",
      "execution_count": 13,
      "id": "ea626dec",
      "metadata": {
        "colab": {
          "base_uri": "https://localhost:8080/"
        },
        "id": "ea626dec",
        "outputId": "9a5b1d55-4638-45d5-ff1f-11fa44d0c8ea"
      },
      "outputs": [
        {
          "data": {
            "text/plain": [
              "False"
            ]
          },
          "execution_count": 13,
          "metadata": {},
          "output_type": "execute_result"
        }
      ],
      "source": [
        "#b. I think it should be false because none of the conditions seems to be true.\n",
        "(x!=z) or (y<x) or (len(text)<5)"
      ]
    },
    {
      "cell_type": "code",
      "execution_count": 14,
      "id": "30ae6a44",
      "metadata": {
        "colab": {
          "base_uri": "https://localhost:8080/"
        },
        "id": "30ae6a44",
        "outputId": "92624959-054c-4764-c2cd-30fc0de84e3e"
      },
      "outputs": [
        {
          "data": {
            "text/plain": [
              "True"
            ]
          },
          "execution_count": 14,
          "metadata": {},
          "output_type": "execute_result"
        }
      ],
      "source": [
        "#c. It should be true, because (x>y) is false and text == \"Adventure\" is also false due to capital A.\n",
        "not ((x > y) and (text == \"Adventure\"))"
      ]
    },
    {
      "cell_type": "markdown",
      "id": "_oELlUhGn_mn",
      "metadata": {
        "id": "_oELlUhGn_mn"
      },
      "source": [
        "Question 5. User Profile Setup"
      ]
    },
    {
      "cell_type": "code",
      "execution_count": 15,
      "id": "abc7561a",
      "metadata": {
        "colab": {
          "base_uri": "https://localhost:8080/",
          "height": 176
        },
        "id": "abc7561a",
        "outputId": "c0d16391-9145-432d-da8b-49a91452f1cd"
      },
      "outputs": [
        {
          "ename": "TypeError",
          "evalue": "'str' object does not support item assignment",
          "output_type": "error",
          "traceback": [
            "\u001b[1;31m---------------------------------------------------------------------------\u001b[0m",
            "\u001b[1;31mTypeError\u001b[0m                                 Traceback (most recent call last)",
            "Cell \u001b[1;32mIn[15], line 4\u001b[0m\n\u001b[0;32m      1\u001b[0m \u001b[38;5;66;03m# Question 5. User Profile Setup\u001b[39;00m\n\u001b[0;32m      2\u001b[0m \u001b[38;5;66;03m# a.\u001b[39;00m\n\u001b[0;32m      3\u001b[0m username \u001b[38;5;241m=\u001b[39m \u001b[38;5;124m\"\u001b[39m\u001b[38;5;124mMyUser123\u001b[39m\u001b[38;5;124m\"\u001b[39m\n\u001b[1;32m----> 4\u001b[0m \u001b[43musername\u001b[49m\u001b[43m[\u001b[49m\u001b[38;5;241;43m0\u001b[39;49m\u001b[43m]\u001b[49m \u001b[38;5;241m=\u001b[39m \u001b[38;5;124m'\u001b[39m\u001b[38;5;124mm\u001b[39m\u001b[38;5;124m'\u001b[39m\n",
            "\u001b[1;31mTypeError\u001b[0m: 'str' object does not support item assignment"
          ]
        }
      ],
      "source": [
        "# Question 5. User Profile Setup\n",
        "# a.\n",
        "username = \"MyUser123\"\n",
        "username[0] = 'm'"
      ]
    },
    {
      "cell_type": "markdown",
      "id": "f4aec6bb",
      "metadata": {
        "id": "f4aec6bb"
      },
      "source": [
        "It returns a TypeError when I attempt to execute the line username[0] ='m'. This is due to Python's immutable strings, which prevent me from directly altering individual characters once they have been produced. Therefore, attempting to alter the username's first letter alone does not function as it might in other programming languages."
      ]
    },
    {
      "cell_type": "code",
      "execution_count": null,
      "id": "a6b9d896",
      "metadata": {
        "colab": {
          "base_uri": "https://localhost:8080/"
        },
        "id": "a6b9d896",
        "outputId": "bc3c25f9-7fe2-43cf-b1c5-69c7d71a4152"
      },
      "outputs": [
        {
          "name": "stdout",
          "output_type": "stream",
          "text": [
            "PRACTICE MAKES PROGRESS\n"
          ]
        }
      ],
      "source": [
        "#b. Transform quote\n",
        "quote = \" practice makes perfect \"\n",
        "# Step 1: Remove leading/trailing whitespace\n",
        "quote = quote.strip()\n",
        "\n",
        "# Step 2: Convert to uppercase\n",
        "quote = quote.upper()\n",
        "\n",
        "# Step 3: Replace \"PERFECT\" with \"PROGRESS\"\n",
        "formatted_quote = quote.replace(\"PERFECT\", \"PROGRESS\")\n",
        "\n",
        "print (formatted_quote)"
      ]
    },
    {
      "cell_type": "markdown",
      "id": "5d1306f2",
      "metadata": {
        "id": "5d1306f2"
      },
      "source": [
        "In first step, I used .strip() which helps to remove any space at the beginning or end of the string. Then I used .upper () changes all the letters in the string to uppercase. Finally, I used .replace(\"PERFECT\",\"PROGRESS\") to replace the word \"PERFECT\" with \"PROGRESS\" in the string."
      ]
    },
    {
      "cell_type": "code",
      "execution_count": null,
      "id": "4462529e",
      "metadata": {
        "colab": {
          "base_uri": "https://localhost:8080/"
        },
        "id": "4462529e",
        "outputId": "cd7bac9c-04b1-46cd-f267-d6172b7a4b26"
      },
      "outputs": [
        {
          "name": "stdout",
          "output_type": "stream",
          "text": [
            "Original length: 24\n",
            "Formatted length: 23\n"
          ]
        }
      ],
      "source": [
        "#c. Length of the original and formatted quotes\n",
        "\n",
        "quote = \" practice makes perfect \"\n",
        "formatted_quote = quote.strip().upper().replace(\"PERFECT\", \"PROGRESS\")\n",
        "\n",
        "# Get lengths\n",
        "original_length = len(quote)\n",
        "formatted_length = len(formatted_quote)\n",
        "\n",
        "print(\"Original length:\", original_length)\n",
        "print(\"Formatted length:\", formatted_length)\n"
      ]
    },
    {
      "cell_type": "markdown",
      "id": "a7e44fb0",
      "metadata": {
        "id": "a7e44fb0"
      },
      "source": [
        "I used len() operator to get the number of characters in each string including spaces."
      ]
    }
  ],
  "metadata": {
    "colab": {
      "provenance": []
    },
    "kernelspec": {
      "display_name": "Python 3",
      "language": "python",
      "name": "python3"
    },
    "language_info": {
      "codemirror_mode": {
        "name": "ipython",
        "version": 3
      },
      "file_extension": ".py",
      "mimetype": "text/x-python",
      "name": "python",
      "nbconvert_exporter": "python",
      "pygments_lexer": "ipython3",
      "version": "3.12.1"
    }
  },
  "nbformat": 4,
  "nbformat_minor": 5
}
